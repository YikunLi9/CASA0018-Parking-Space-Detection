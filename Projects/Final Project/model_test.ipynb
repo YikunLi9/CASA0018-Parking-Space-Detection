{
 "cells": [
  {
   "cell_type": "code",
   "execution_count": null,
   "id": "e5d8b514-45c1-450a-baad-069f979a4cf8",
   "metadata": {},
   "outputs": [],
   "source": [
    "import numpy as np\n",
    "import tensorflow as tf\n",
    "from PIL import Image\n",
    "from tensorflow.keras.preprocessing.image import img_to_array, load_img"
   ]
  },
  {
   "cell_type": "code",
   "execution_count": null,
   "id": "3a5a1bb8-2816-4388-bbb4-a7aca098bbe1",
   "metadata": {},
   "outputs": [],
   "source": [
    "def load_image(image_path):\n",
    "    img = load_img(image_path, target_size=(224, 224))\n",
    "    img_array = img_to_array(img)\n",
    "    img_array = img_array / 255.0\n",
    "    img_array = np.expand_dims(img_array, axis=0)\n",
    "    return img_array"
   ]
  },
  {
   "cell_type": "code",
   "execution_count": null,
   "id": "9ff806fd-4ec5-4745-b4f7-be2dbf5ddba5",
   "metadata": {},
   "outputs": [],
   "source": [
    "def load_tflite_model(tflite_model_path):\n",
    "    interpreter = tf.lite.Interpreter(model_path=tflite_model_path)\n",
    "    interpreter.allocate_tensors()\n",
    "    return interpreter"
   ]
  },
  {
   "cell_type": "code",
   "execution_count": null,
   "id": "fe902c1d-6ad6-4e8f-a148-f90eca3c3a05",
   "metadata": {},
   "outputs": [],
   "source": [
    "def run_inference(interpreter, input_data):\n",
    "    input_details = interpreter.get_input_details()\n",
    "    interpreter.set_tensor(input_details[0]['index'], input_data)\n",
    "\n",
    "    interpreter.invoke()\n",
    "    \n",
    "    output_details = interpreter.get_output_details()\n",
    "    output_data = interpreter.get_tensor(output_details[0]['index'])\n",
    "    return output_data"
   ]
  },
  {
   "cell_type": "code",
   "execution_count": null,
   "id": "f8b16df1-3a7f-45f5-928e-ce0863a94f16",
   "metadata": {},
   "outputs": [],
   "source": [
    "model_path = './parking_lot_occupancy_model_logback.tflite'\n",
    "image_path = './test_data/test01.png'"
   ]
  },
  {
   "cell_type": "code",
   "execution_count": null,
   "id": "b4ea8153-a0c6-4c10-8dba-2b40d7a42299",
   "metadata": {},
   "outputs": [],
   "source": [
    "input_data = load_image(image_path)\n",
    "interpreter = load_tflite_model(model_path)\n",
    "output_data = run_inference(interpreter, input_data)\n",
    "print(\"Predicted output:\", output_data)"
   ]
  }
 ],
 "metadata": {
  "kernelspec": {
   "display_name": "Python 3 (ipykernel)",
   "language": "python",
   "name": "python3"
  },
  "language_info": {
   "codemirror_mode": {
    "name": "ipython",
    "version": 3
   },
   "file_extension": ".py",
   "mimetype": "text/x-python",
   "name": "python",
   "nbconvert_exporter": "python",
   "pygments_lexer": "ipython3",
   "version": "3.11.5"
  }
 },
 "nbformat": 4,
 "nbformat_minor": 5
}
