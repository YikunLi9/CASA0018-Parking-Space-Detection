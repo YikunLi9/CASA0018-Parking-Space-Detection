{
 "cells": [
  {
   "cell_type": "code",
   "execution_count": 1,
   "id": "e2c38469-bab0-44a8-b0c0-28a0679b2882",
   "metadata": {},
   "outputs": [],
   "source": [
    "import tensorflow as tf\n",
    "from tensorflow.keras.models import Sequential\n",
    "from tensorflow.keras.layers import Conv2D, MaxPooling2D, Flatten, Dense, Dropout\n",
    "from tensorflow.keras.preprocessing.image import ImageDataGenerator\n",
    "from tensorflow.keras.callbacks import EarlyStopping, TensorBoard\n",
    "from tensorflow.keras.callbacks import Callback\n",
    "import datetime"
   ]
  },
  {
   "cell_type": "code",
   "execution_count": 2,
   "id": "b8f0eea9-26e4-46db-9533-5beb95fd3e4d",
   "metadata": {},
   "outputs": [],
   "source": [
    "train_dir = './1'\n",
    "validation_dir = './0'"
   ]
  },
  {
   "cell_type": "code",
   "execution_count": 3,
   "id": "7f2f90b8-6d3d-4386-9502-ea3752861a25",
   "metadata": {},
   "outputs": [],
   "source": [
    "train_datagen = ImageDataGenerator(\n",
    "    rescale=1./255,\n",
    "    rotation_range=40,\n",
    "    width_shift_range=0.2,\n",
    "    height_shift_range=0.2,\n",
    "    shear_range=0.2,\n",
    "    zoom_range=0.2,\n",
    "    horizontal_flip=True,\n",
    "    fill_mode='nearest'\n",
    ")"
   ]
  },
  {
   "cell_type": "code",
   "execution_count": 4,
   "id": "497b5c81-4c2b-466a-87e7-e88c7f5c8be2",
   "metadata": {},
   "outputs": [],
   "source": [
    "validation_datagen = ImageDataGenerator(rescale=1./255)"
   ]
  },
  {
   "cell_type": "code",
   "execution_count": 5,
   "id": "38a58126-dbb1-4fda-a84d-07be4423b2d1",
   "metadata": {},
   "outputs": [
    {
     "name": "stdout",
     "output_type": "stream",
     "text": [
      "Found 3906 images belonging to 2 classes.\n",
      "Found 896 images belonging to 2 classes.\n"
     ]
    }
   ],
   "source": [
    "train_generator = train_datagen.flow_from_directory(\n",
    "    train_dir,\n",
    "    target_size=(224, 224),\n",
    "    batch_size=20,\n",
    "    class_mode='binary'\n",
    ")\n",
    "\n",
    "validation_generator = validation_datagen.flow_from_directory(\n",
    "    validation_dir,\n",
    "    target_size=(224, 224),\n",
    "    batch_size=20,\n",
    "    class_mode='binary'\n",
    ")"
   ]
  },
  {
   "cell_type": "code",
   "execution_count": 6,
   "id": "e7e559ea-04c1-41a6-99d5-c299a395b403",
   "metadata": {},
   "outputs": [],
   "source": [
    "# 定义CNN模型结构\n",
    "def build_model():\n",
    "    model = Sequential([\n",
    "        Conv2D(32, (3, 3), activation='relu', input_shape=(224, 224, 3)),\n",
    "        MaxPooling2D((2, 2)),\n",
    "        Conv2D(64, (3, 3), activation='relu'),\n",
    "        MaxPooling2D((2, 2)),\n",
    "        Conv2D(128, (3, 3), activation='relu'),\n",
    "        MaxPooling2D((2, 2)),\n",
    "        Flatten(),\n",
    "        Dense(512, activation='relu'),\n",
    "        Dropout(0.5),\n",
    "        Dense(1, activation='sigmoid')\n",
    "    ])\n",
    "    \n",
    "    model.compile(optimizer='adam',\n",
    "                  loss='binary_crossentropy',\n",
    "                  metrics=['accuracy'])\n",
    "    return model"
   ]
  },
  {
   "cell_type": "code",
   "execution_count": 7,
   "id": "7613ca6b-a909-41d8-ad88-32bf070dbe9b",
   "metadata": {},
   "outputs": [],
   "source": [
    "class MyThresholdCallback(Callback):\n",
    "    \"\"\"\n",
    "    自定义回调，用于在达到指定的准确率阈值时停止训练。\n",
    "    \"\"\"\n",
    "    def __init__(self, threshold):\n",
    "        super(MyThresholdCallback, self).__init__()\n",
    "        self.threshold = threshold  # 准确率阈值\n",
    "\n",
    "    def on_epoch_end(self, epoch, logs=None):\n",
    "        # 检查验证集的准确率（也可以改为 'accuracy' 检查训练集准确率）\n",
    "        if logs.get('accuracy') >= self.threshold:\n",
    "            print(f\"\\n达到 {self.threshold*100}% 准确率，停止训练！\")\n",
    "            self.model.stop_training = True"
   ]
  },
  {
   "cell_type": "code",
   "execution_count": 8,
   "id": "84c86a4f-17bd-44c4-8c48-88590cf4ee3c",
   "metadata": {},
   "outputs": [],
   "source": [
    "# 设置日志目录\n",
    "log_dir = \"logs/fit/\" + datetime.datetime.now().strftime(\"%Y%m%d-%H%M%S\")\n",
    "tensorboard_callback = TensorBoard(log_dir=log_dir, histogram_freq=1)\n",
    "\n",
    "model = build_model()\n",
    "\n",
    "threshold_callback = MyThresholdCallback(threshold=0.975)\n",
    "\n",
    "# 设置EarlyStopping回调\n",
    "# early_stopping_callback = EarlyStopping(monitor='accuracy', patience=5, verbose=1, mode='max', restore_best_weights=True)"
   ]
  },
  {
   "cell_type": "code",
   "execution_count": 9,
   "id": "689d6497",
   "metadata": {},
   "outputs": [
    {
     "name": "stdout",
     "output_type": "stream",
     "text": [
      "Epoch 1/15\n",
      "100/100 [==============================] - ETA: 0s - loss: 0.6388 - accuracy: 0.7340WARNING:tensorflow:Your input ran out of data; interrupting training. Make sure that your dataset or generator can generate at least `steps_per_epoch * epochs` batches (in this case, 50 batches). You may need to use the repeat() function when building your dataset.\n",
      "100/100 [==============================] - 58s 581ms/step - loss: 0.6388 - accuracy: 0.7340 - val_loss: 0.3593 - val_accuracy: 0.8348\n",
      "Epoch 2/15\n",
      "100/100 [==============================] - 51s 505ms/step - loss: 0.3606 - accuracy: 0.8495\n",
      "Epoch 3/15\n",
      "100/100 [==============================] - 51s 515ms/step - loss: 0.3739 - accuracy: 0.8610\n",
      "Epoch 4/15\n",
      "100/100 [==============================] - 52s 523ms/step - loss: 0.3364 - accuracy: 0.8615\n",
      "Epoch 5/15\n",
      "100/100 [==============================] - 54s 541ms/step - loss: 0.3467 - accuracy: 0.8927\n",
      "Epoch 6/15\n",
      "100/100 [==============================] - 51s 514ms/step - loss: 0.2345 - accuracy: 0.9230\n",
      "Epoch 7/15\n",
      "100/100 [==============================] - 50s 499ms/step - loss: 0.2119 - accuracy: 0.9204\n",
      "Epoch 8/15\n",
      "100/100 [==============================] - 52s 521ms/step - loss: 0.1955 - accuracy: 0.9280\n",
      "Epoch 9/15\n",
      "100/100 [==============================] - 52s 517ms/step - loss: 0.1794 - accuracy: 0.9295\n",
      "Epoch 10/15\n",
      "100/100 [==============================] - 52s 523ms/step - loss: 0.1502 - accuracy: 0.9475\n",
      "Epoch 11/15\n",
      "100/100 [==============================] - 52s 519ms/step - loss: 0.1587 - accuracy: 0.9385\n",
      "Epoch 12/15\n",
      "100/100 [==============================] - 51s 514ms/step - loss: 0.1139 - accuracy: 0.9572\n",
      "Epoch 13/15\n",
      "100/100 [==============================] - 52s 516ms/step - loss: 0.1183 - accuracy: 0.9585\n",
      "Epoch 14/15\n",
      "100/100 [==============================] - 51s 513ms/step - loss: 0.1003 - accuracy: 0.9668\n",
      "Epoch 15/15\n",
      "100/100 [==============================] - 51s 514ms/step - loss: 0.1144 - accuracy: 0.9612\n"
     ]
    }
   ],
   "source": [
    "history = model.fit(\n",
    "    train_generator,\n",
    "    steps_per_epoch=100,  # 根据您的数据集大小可能需要调整\n",
    "    epochs=15,            # 根据模型的表现可能需要调整\n",
    "    validation_data=validation_generator,\n",
    "    validation_steps=50,   # 根据您的数据集大小可能需要调整\n",
    "    callbacks=[threshold_callback]  # 在训练时使用回调\n",
    ")"
   ]
  },
  {
   "cell_type": "code",
   "execution_count": 10,
   "id": "9d1239a5-d719-4358-b6f7-e2f3b5029345",
   "metadata": {},
   "outputs": [],
   "source": [
    "model.save('parking_lot_occupancy_model_logback.h5')"
   ]
  },
  {
   "cell_type": "code",
   "execution_count": 11,
   "id": "96440d5c-7322-4e34-90e3-21d121ae7d28",
   "metadata": {},
   "outputs": [
    {
     "name": "stdout",
     "output_type": "stream",
     "text": [
      "Model: \"sequential\"\n",
      "_________________________________________________________________\n",
      "Layer (type)                 Output Shape              Param #   \n",
      "=================================================================\n",
      "conv2d (Conv2D)              (None, 222, 222, 32)      896       \n",
      "_________________________________________________________________\n",
      "max_pooling2d (MaxPooling2D) (None, 111, 111, 32)      0         \n",
      "_________________________________________________________________\n",
      "conv2d_1 (Conv2D)            (None, 109, 109, 64)      18496     \n",
      "_________________________________________________________________\n",
      "max_pooling2d_1 (MaxPooling2 (None, 54, 54, 64)        0         \n",
      "_________________________________________________________________\n",
      "conv2d_2 (Conv2D)            (None, 52, 52, 128)       73856     \n",
      "_________________________________________________________________\n",
      "max_pooling2d_2 (MaxPooling2 (None, 26, 26, 128)       0         \n",
      "_________________________________________________________________\n",
      "flatten (Flatten)            (None, 86528)             0         \n",
      "_________________________________________________________________\n",
      "dense (Dense)                (None, 512)               44302848  \n",
      "_________________________________________________________________\n",
      "dropout (Dropout)            (None, 512)               0         \n",
      "_________________________________________________________________\n",
      "dense_1 (Dense)              (None, 1)                 513       \n",
      "=================================================================\n",
      "Total params: 44,396,609\n",
      "Trainable params: 44,396,609\n",
      "Non-trainable params: 0\n",
      "_________________________________________________________________\n"
     ]
    }
   ],
   "source": [
    "model.summary()"
   ]
  },
  {
   "cell_type": "code",
   "execution_count": 12,
   "id": "d2f67ec8-875c-4859-ba5e-0e876bc8c912",
   "metadata": {},
   "outputs": [
    {
     "name": "stdout",
     "output_type": "stream",
     "text": [
      "Run `tensorboard --logdir=logs/fit/20240314-231248` to start TensorBoard.\n"
     ]
    }
   ],
   "source": [
    "print(f\"Run `tensorboard --logdir={log_dir}` to start TensorBoard.\")"
   ]
  }
 ],
 "metadata": {
  "kernelspec": {
   "display_name": "Python 3 (ipykernel)",
   "language": "python",
   "name": "python3"
  },
  "language_info": {
   "codemirror_mode": {
    "name": "ipython",
    "version": 3
   },
   "file_extension": ".py",
   "mimetype": "text/x-python",
   "name": "python",
   "nbconvert_exporter": "python",
   "pygments_lexer": "ipython3",
   "version": "3.8.18"
  }
 },
 "nbformat": 4,
 "nbformat_minor": 5
}
